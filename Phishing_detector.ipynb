{
 "cells": [
  {
   "cell_type": "code",
   "execution_count": null,
   "metadata": {},
   "outputs": [],
   "source": [
    "import warnings\n",
    "import pandas as pd\n",
    "import feature_extractor as fe\n",
    "from xgboost import XGBClassifier\n",
    "from sklearn.model_selection import train_test_split\n",
    "from sklearn.metrics import *\n",
    "\n",
    "warnings.filterwarnings(\"ignore\")"
   ]
  },
  {
   "cell_type": "code",
   "execution_count": null,
   "metadata": {},
   "outputs": [],
   "source": [
    "data = pd.read_csv(\"updated_dataset.csv\")\n",
    "data"
   ]
  },
  {
   "cell_type": "code",
   "execution_count": null,
   "metadata": {},
   "outputs": [],
   "source": [
    "def xgb_classifier(data=data, url=None):\n",
    "\n",
    "    X = data.drop(\"status\", axis=1)\n",
    "    Y = data[\"status\"]\n",
    "    \n",
    "    X_train, X_, Y_train, Y_ = train_test_split(X, Y, test_size=0.30, random_state=42)\n",
    "    X_cv, X_test, Y_cv, Y_test = train_test_split(X_, Y_, test_size=0.50, random_state=42)\n",
    "    del X_,Y_\n",
    "\n",
    "    model = XGBClassifier(eta=0.1, max_depth=5, n_estimators=200, verbose=1, n_jobs=-1, num_parallel_tree=6, random_state=42)\n",
    "    model.fit(X_train, Y_train, eval_set=[(X_cv, Y_cv)], early_stopping_rounds=20)\n",
    "    \n",
    "    if url:\n",
    "        features = fe.extract_features(url)\n",
    "        pred = model.predict(features)\n",
    "        features.append(pred)\n",
    "        print(pred)\n",
    "        data.loc[len(df)] = features"
   ]
  },
  {
   "cell_type": "code",
   "execution_count": null,
   "metadata": {},
   "outputs": [],
   "source": [
    "xgb_classifier(url=\"https://www.coursera.org/learn/foundations-data/home/week/1\")"
   ]
  },
  {
   "cell_type": "code",
   "execution_count": null,
   "metadata": {},
   "outputs": [],
   "source": []
  }
 ],
 "metadata": {
  "kernelspec": {
   "display_name": "Python 3 (ipykernel)",
   "language": "python",
   "name": "python3"
  },
  "language_info": {
   "codemirror_mode": {
    "name": "ipython",
    "version": 3
   },
   "file_extension": ".py",
   "mimetype": "text/x-python",
   "name": "python",
   "nbconvert_exporter": "python",
   "pygments_lexer": "ipython3",
   "version": "3.10.8"
  },
  "orig_nbformat": 4
 },
 "nbformat": 4,
 "nbformat_minor": 2
}
